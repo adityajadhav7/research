{
 "cells": [
  {
   "cell_type": "code",
   "execution_count": 1,
   "id": "9bc6b879-8772-4872-9896-63bca1159a42",
   "metadata": {},
   "outputs": [],
   "source": [
    "import numpy as np\n",
    "import pandas as pd"
   ]
  },
  {
   "cell_type": "markdown",
   "id": "a381f5b6-fed2-4bb4-86c5-6350f8750ef2",
   "metadata": {},
   "source": [
    "# Generators Unleashed"
   ]
  },
  {
   "cell_type": "code",
   "execution_count": 3,
   "id": "408805cf-865a-47d0-8dc0-c668de0f8d6e",
   "metadata": {},
   "outputs": [
    {
     "name": "stdout",
     "output_type": "stream",
     "text": [
      "27\n"
     ]
    }
   ],
   "source": [
    "def infinite_sequence_generator():\n",
    "    num = 0\n",
    "    while True:\n",
    "        yield num\n",
    "        num += 1\n",
    "\n",
    "def power_generator(num):\n",
    "    for i in infinite_sequence_generator():\n",
    "        yield num ** i\n",
    "\n",
    "gen = power_generator(3)\n",
    "for _ in range(4):\n",
    "    result = next(gen)\n",
    "\n",
    "print(result)"
   ]
  },
  {
   "cell_type": "markdown",
   "id": "ce62b120-15aa-4b66-a7f7-e753eedc1b61",
   "metadata": {},
   "source": [
    "# Recursive Evaluation"
   ]
  },
  {
   "cell_type": "code",
   "execution_count": 13,
   "id": "2a89e696-2620-4c00-aa35-2706a0fa94f8",
   "metadata": {},
   "outputs": [
    {
     "data": {
      "text/plain": [
       "24"
      ]
     },
     "execution_count": 13,
     "metadata": {},
     "output_type": "execute_result"
    }
   ],
   "source": [
    "def function_a(n):\n",
    "    if n == 0:\n",
    "        return 1\n",
    "    else:\n",
    "        return n * function_b(n-1)\n",
    "\n",
    "def function_b(n):\n",
    "    if n == 0:\n",
    "        return 1\n",
    "    else:\n",
    "        return n * function_a(n-1)\n",
    "\n",
    "function_a(4)"
   ]
  },
  {
   "cell_type": "markdown",
   "id": "618596d0-6ee9-4252-b524-97d96eb2491e",
   "metadata": {},
   "source": [
    "# Python OOP mechanics"
   ]
  },
  {
   "cell_type": "code",
   "execution_count": 15,
   "id": "aff2d31b-58de-488c-b194-196f523c61da",
   "metadata": {},
   "outputs": [
    {
     "name": "stdout",
     "output_type": "stream",
     "text": [
      "13\n"
     ]
    }
   ],
   "source": [
    "from abc import ABC\n",
    "\n",
    "class Base(ABC):\n",
    "    def h(x):\n",
    "        return 7\n",
    "    \n",
    "    @staticmethod\n",
    "    def f():\n",
    "        return 6\n",
    "\n",
    "class Foo(Base):\n",
    "    @staticmethod\n",
    "    def f():\n",
    "        return 5\n",
    "\n",
    "    @classmethod\n",
    "    def g(x):\n",
    "        return 8\n",
    "\n",
    "    def h(x):\n",
    "        return x.g()\n",
    "\n",
    "    def __init__(self, x):\n",
    "        self.x = x\n",
    "\n",
    "\n",
    "res = Foo(6).h() + Foo.f()\n",
    "\n",
    "print(res)"
   ]
  },
  {
   "cell_type": "markdown",
   "id": "f44cbfaf-18aa-4409-bab5-a790793f9fdd",
   "metadata": {},
   "source": [
    "# GIL"
   ]
  },
  {
   "cell_type": "code",
   "execution_count": 30,
   "id": "12d579c3-bccb-4cec-b17e-5e9c4b90326f",
   "metadata": {},
   "outputs": [],
   "source": [
    "import threading\n",
    "import multiprocessing\n",
    "import time"
   ]
  },
  {
   "cell_type": "code",
   "execution_count": 16,
   "id": "e288dc46-34b1-4916-abf4-08faaf642b41",
   "metadata": {},
   "outputs": [],
   "source": [
    "def count_up_to(n):\n",
    "    count = 0\n",
    "    for _ in range(n):\n",
    "        count += 1\n",
    "    return count"
   ]
  },
  {
   "cell_type": "code",
   "execution_count": 25,
   "id": "919c3633-a827-4895-bdc4-4763b31126bd",
   "metadata": {},
   "outputs": [],
   "source": [
    "# Assuming Python's Global Interpreter Lock (GIL) is in effect\n",
    "# decrease the runtime of the count_up_to function\n",
    "def main():\n",
    "    n = 10**7\n",
    "    count_up_to(n)\n",
    "    count_up_to(n)"
   ]
  },
  {
   "cell_type": "code",
   "execution_count": 29,
   "id": "adea2c55-16fc-4289-bb88-b10339a05e47",
   "metadata": {},
   "outputs": [],
   "source": [
    "def main():\n",
    "    n = 10**7\n",
    "    t1 = threading.Thread(target=count_up_to, args=(n,))\n",
    "    t2 = threading.Thread(target=count_up_to, args=(n,))\n",
    "    t1.start()\n",
    "    t2.start()\n",
    "    t1.join()\n",
    "    t2.join()"
   ]
  },
  {
   "cell_type": "code",
   "execution_count": 28,
   "id": "4e50f8a6-941a-44a5-8824-fefdfb463967",
   "metadata": {},
   "outputs": [],
   "source": [
    "def main():\n",
    "    n = 10**7\n",
    "    p1 = multiprocessing.Process(target=count_up_to, args=(n,))\n",
    "    p2 = multiprocessing.Process(target=count_up_to, args=(n,))\n",
    "    p1.start()\n",
    "    p2.start()\n",
    "    p1.join()\n",
    "    p2.join()"
   ]
  },
  {
   "cell_type": "code",
   "execution_count": 27,
   "id": "1b85d282-deaa-4079-8261-41c6729ccc69",
   "metadata": {},
   "outputs": [],
   "source": [
    "def main():\n",
    "    n = 10**7\n",
    "    t1 = threading.Thread(target=count_up_to, args=(n,))\n",
    "    t2 = threading.Thread(target=count_up_to, args=(n,))\n",
    "    t1.start()\n",
    "    t2.start()\n",
    "    t1.join()\n",
    "    t2.join()\n",
    "    time.sleep(1)"
   ]
  },
  {
   "cell_type": "code",
   "execution_count": null,
   "id": "04ad400c-a1c4-4263-9b4b-3a9996d49191",
   "metadata": {},
   "outputs": [],
   "source": []
  },
  {
   "cell_type": "code",
   "execution_count": null,
   "id": "f74fd654-f49b-4951-9fc0-4bed6cbd848b",
   "metadata": {},
   "outputs": [],
   "source": []
  },
  {
   "cell_type": "code",
   "execution_count": null,
   "id": "369ec98b-308a-46ad-9178-ff835c71cdaa",
   "metadata": {},
   "outputs": [],
   "source": []
  },
  {
   "cell_type": "code",
   "execution_count": 33,
   "id": "5fe32625-79cf-4974-8af5-d7a73e723b94",
   "metadata": {},
   "outputs": [],
   "source": [
    "from enum import Enum\n",
    "from collections import Counter\n",
    "from typing import List"
   ]
  },
  {
   "cell_type": "code",
   "execution_count": 35,
   "id": "0fe973ec-3159-4e2a-8bb5-94e5478ece38",
   "metadata": {},
   "outputs": [],
   "source": [
    "nums = [2,7,11,15]\n",
    "target = 9"
   ]
  },
  {
   "cell_type": "code",
   "execution_count": 42,
   "id": "8080d7ab-1bcc-410e-9ebd-f81810877ce0",
   "metadata": {},
   "outputs": [],
   "source": [
    "def twoSum(nums: List[int], target: int) -> List[int]:\n",
    "    hashmap = {}\n",
    "    for i in range(len(nums)):\n",
    "        complement = target - nums[i]\n",
    "        if complement in hashmap:\n",
    "            return [hashmap[complement], i]\n",
    "        hashmap[nums[i]] = i"
   ]
  },
  {
   "cell_type": "code",
   "execution_count": null,
   "id": "086f704d-1d32-4747-a053-865144264876",
   "metadata": {},
   "outputs": [],
   "source": []
  }
 ],
 "metadata": {
  "kernelspec": {
   "display_name": "Python 3 (ipykernel)",
   "language": "python",
   "name": "python3"
  },
  "language_info": {
   "codemirror_mode": {
    "name": "ipython",
    "version": 3
   },
   "file_extension": ".py",
   "mimetype": "text/x-python",
   "name": "python",
   "nbconvert_exporter": "python",
   "pygments_lexer": "ipython3",
   "version": "3.11.7"
  }
 },
 "nbformat": 4,
 "nbformat_minor": 5
}
