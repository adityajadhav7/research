{
 "cells": [
  {
   "cell_type": "code",
   "execution_count": 1,
   "id": "3881860a-0b01-43ae-91ad-5458bdadb63b",
   "metadata": {},
   "outputs": [],
   "source": [
    "import numpy as np"
   ]
  },
  {
   "cell_type": "code",
   "execution_count": 2,
   "id": "648ef7a6-d002-4514-b5c9-2f1c4dd5da75",
   "metadata": {},
   "outputs": [],
   "source": [
    "sales_data = np.array([\n",
    "    [200, 220, 250, 270],  # Product A\n",
    "    [150, 160, 170, 180],  # Product B\n",
    "    [300, 310, 320, 330]   # Product C\n",
    "])"
   ]
  },
  {
   "cell_type": "code",
   "execution_count": 12,
   "id": "ec28087d-8789-488c-ae01-ce26aa1eff4f",
   "metadata": {},
   "outputs": [
    {
     "data": {
      "text/plain": [
       "array([ 940,  660, 1260])"
      ]
     },
     "execution_count": 12,
     "metadata": {},
     "output_type": "execute_result"
    }
   ],
   "source": [
    "total_sales = np.sum(sales_data, axis=1)  # axis=1 sums across columns (quarters)\n",
    "total_sales"
   ]
  },
  {
   "cell_type": "code",
   "execution_count": 13,
   "id": "305f37ba-9a35-4719-86a0-bdb1f6d1b899",
   "metadata": {},
   "outputs": [
    {
     "data": {
      "text/plain": [
       "array([216.66666667, 230.        , 246.66666667, 260.        ])"
      ]
     },
     "execution_count": 13,
     "metadata": {},
     "output_type": "execute_result"
    }
   ],
   "source": [
    "average_sales_per_quarter = np.mean(sales_data, axis=0)  # axis=0 averages across rows (products)\n",
    "average_sales_per_quarter"
   ]
  },
  {
   "cell_type": "code",
   "execution_count": 11,
   "id": "675fb642-e95d-494e-8f99-126a4ff74a90",
   "metadata": {},
   "outputs": [
    {
     "data": {
      "text/plain": [
       "array([300, 310, 320, 330])"
      ]
     },
     "execution_count": 11,
     "metadata": {},
     "output_type": "execute_result"
    }
   ],
   "source": [
    "max_sales_each_quarter = np.max(sales_data, axis=0)\n",
    "max_sales_each_quarter"
   ]
  },
  {
   "cell_type": "code",
   "execution_count": 3,
   "id": "0a113bf0-6add-4f68-a011-339e010ddf99",
   "metadata": {},
   "outputs": [],
   "source": [
    "random_data = np.random.rand(4, 5)  # 4x5 array of random numbers"
   ]
  },
  {
   "cell_type": "code",
   "execution_count": 14,
   "id": "51cb0734-94c0-40b7-a891-f789b12e2183",
   "metadata": {},
   "outputs": [],
   "source": [
    "mean_random_data = np.mean(random_data)"
   ]
  },
  {
   "cell_type": "code",
   "execution_count": null,
   "id": "00b38f3f-154f-4c67-8b78-517ec39542eb",
   "metadata": {},
   "outputs": [],
   "source": []
  },
  {
   "cell_type": "code",
   "execution_count": 4,
   "id": "8d123041-16cc-4ca3-806b-784c64b73d7f",
   "metadata": {},
   "outputs": [],
   "source": [
    "revenue_data = np.array([10.5, 12.3, 14.8, 11.2, 13.9])"
   ]
  },
  {
   "cell_type": "code",
   "execution_count": 17,
   "id": "7830dda7-d8d8-47f3-8937-4763b5e7e714",
   "metadata": {},
   "outputs": [
    {
     "data": {
      "text/plain": [
       "1.6107141273360712"
      ]
     },
     "execution_count": 17,
     "metadata": {},
     "output_type": "execute_result"
    }
   ],
   "source": [
    "std_revenue = np.std(revenue_data)\n",
    "std_revenue"
   ]
  },
  {
   "cell_type": "code",
   "execution_count": 18,
   "id": "0003deb0-d84f-4677-aa67-2b21faea8dd2",
   "metadata": {},
   "outputs": [
    {
     "data": {
      "text/plain": [
       "array([-1.26651897, -0.14900223,  1.40310435, -0.83192913,  0.84434598])"
      ]
     },
     "execution_count": 18,
     "metadata": {},
     "output_type": "execute_result"
    }
   ],
   "source": [
    "normalized_revenue = (revenue_data - np.mean(revenue_data)) / np.std(revenue_data)\n",
    "normalized_revenue"
   ]
  },
  {
   "cell_type": "code",
   "execution_count": null,
   "id": "079aef30-ea17-453c-be2d-55ef87aff9f7",
   "metadata": {},
   "outputs": [],
   "source": []
  },
  {
   "cell_type": "code",
   "execution_count": 5,
   "id": "3ba8e098-1349-42d4-a3c3-5aa4538f61b0",
   "metadata": {},
   "outputs": [],
   "source": [
    "stock_prices = np.array([\n",
    "    [101, 103, 107, 105, 102, 108, 110],\n",
    "    [98, 97, 95, 96, 99, 101, 100],\n",
    "    [150, 152, 153, 154, 151, 150, 149],\n",
    "    [75, 74, 73, 76, 78, 79, 80],\n",
    "    [120, 121, 123, 125, 124, 122, 126]\n",
    "])"
   ]
  },
  {
   "cell_type": "code",
   "execution_count": 19,
   "id": "4b61848c-1214-428f-91d0-d6db2d79c89a",
   "metadata": {},
   "outputs": [
    {
     "data": {
      "text/plain": [
       "array([[ 1.98019802,  3.88349515, -1.86915888, -2.85714286,  5.88235294,\n",
       "         1.85185185],\n",
       "       [-1.02040816, -2.06185567,  1.05263158,  3.125     ,  2.02020202,\n",
       "        -0.99009901],\n",
       "       [ 1.33333333,  0.65789474,  0.65359477, -1.94805195, -0.66225166,\n",
       "        -0.66666667],\n",
       "       [-1.33333333, -1.35135135,  4.10958904,  2.63157895,  1.28205128,\n",
       "         1.26582278],\n",
       "       [ 0.83333333,  1.65289256,  1.62601626, -0.8       , -1.61290323,\n",
       "         3.27868852]])"
      ]
     },
     "execution_count": 19,
     "metadata": {},
     "output_type": "execute_result"
    }
   ],
   "source": [
    "daily_returns = np.diff(stock_prices, axis=1) / stock_prices[:, :-1] * 100\n",
    "daily_returns"
   ]
  },
  {
   "cell_type": "code",
   "execution_count": 20,
   "id": "eaabdac4-ae7d-4ab6-bb32-100ef188ac4c",
   "metadata": {},
   "outputs": [
    {
     "data": {
      "text/plain": [
       "array([6, 5, 3, 6, 6])"
      ]
     },
     "execution_count": 20,
     "metadata": {},
     "output_type": "execute_result"
    }
   ],
   "source": [
    "highest_price_day = np.argmax(stock_prices, axis=1)\n",
    "highest_price_day"
   ]
  },
  {
   "cell_type": "code",
   "execution_count": 21,
   "id": "2ece54e6-5315-4dc0-83dd-b49b0ee3d23f",
   "metadata": {},
   "outputs": [
    {
     "data": {
      "text/plain": [
       "array([[101,  98, 150,  75, 120],\n",
       "       [103,  97, 152,  74, 121],\n",
       "       [107,  95, 153,  73, 123],\n",
       "       [105,  96, 154,  76, 125],\n",
       "       [102,  99, 151,  78, 124],\n",
       "       [108, 101, 150,  79, 122],\n",
       "       [110, 100, 149,  80, 126]])"
      ]
     },
     "execution_count": 21,
     "metadata": {},
     "output_type": "execute_result"
    }
   ],
   "source": [
    "transposed_stock_prices = np.transpose(stock_prices)\n",
    "transposed_stock_prices"
   ]
  },
  {
   "cell_type": "code",
   "execution_count": null,
   "id": "ad087cd6-8cc6-4f1e-8306-de0058961e7f",
   "metadata": {},
   "outputs": [],
   "source": []
  }
 ],
 "metadata": {
  "kernelspec": {
   "display_name": "Python 3 (ipykernel)",
   "language": "python",
   "name": "python3"
  },
  "language_info": {
   "codemirror_mode": {
    "name": "ipython",
    "version": 3
   },
   "file_extension": ".py",
   "mimetype": "text/x-python",
   "name": "python",
   "nbconvert_exporter": "python",
   "pygments_lexer": "ipython3",
   "version": "3.11.7"
  }
 },
 "nbformat": 4,
 "nbformat_minor": 5
}
